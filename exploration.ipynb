{
 "cells": [
  {
   "cell_type": "markdown",
   "metadata": {},
   "source": [
    "# What's in a book:  Alice in Wonderland\n",
    "\n",
    "The aim here is to produce a form of semantec network linking words together by dictionary synonyms, this will be done for every word in the book. We will use Alice in Wonderland as a sample text.\n",
    "\n",
    " "
   ]
  },
  {
   "cell_type": "code",
   "execution_count": 1,
   "metadata": {},
   "outputs": [],
   "source": [
    "import re\n",
    "from pprint import pprint\n",
    "import json\n",
    "from collections import Counter\n",
    "from collections import defaultdict\n",
    "from scipy.stats import pearsonr\n",
    "import random\n",
    "\n",
    "import matplotlib.pyplot as plt"
   ]
  },
  {
   "cell_type": "markdown",
   "metadata": {},
   "source": [
    "## Loading Synonyms\n"
   ]
  },
  {
   "cell_type": "code",
   "execution_count": 28,
   "metadata": {},
   "outputs": [],
   "source": [
    "def load_synonyms(obj):\n",
    "    d = defaultdict(set)\n",
    "    for result in obj['results']:\n",
    "        word = result['id']\n",
    "        for lex in result['lexicalEntries']:\n",
    "            for entry in lex['entries']:\n",
    "                for sense in entry['senses']:\n",
    "                    for syn in sense['synonyms']:\n",
    "                        if len(syn['text'].split()) > 1:\n",
    "                            continue\n",
    "                        if syn['text'] not in WORDS:\n",
    "                            continue\n",
    "                        d[word].add(syn['text'])\n",
    "    return d"
   ]
  },
  {
   "cell_type": "code",
   "execution_count": null,
   "metadata": {},
   "outputs": [],
   "source": [
    "G = {}\n",
    "with open('data/synonym.nd.json') as fp:\n",
    "    for row in json.loads(fp.read()):\n",
    "        G.update(load_synonyms(row))"
   ]
  },
  {
   "cell_type": "code",
   "execution_count": 29,
   "metadata": {},
   "outputs": [
    {
     "data": {
      "text/plain": [
       "'take'"
      ]
     },
     "execution_count": 29,
     "metadata": {},
     "output_type": "execute_result"
    }
   ],
   "source": [
    "max(G, key=lambda k: len(G[k]))"
   ]
  },
  {
   "cell_type": "code",
   "execution_count": 31,
   "metadata": {},
   "outputs": [
    {
     "name": "stdout",
     "output_type": "stream",
     "text": [
      "1190\n",
      "unique 1486\n"
     ]
    }
   ],
   "source": [
    "counts = []\n",
    "wordlen = []\n",
    "index = {}\n",
    "unique = set()\n",
    "print(len(G.keys()))\n",
    "for i, (k, v) in enumerate(G.items()):\n",
    "    counts.append(len(v))\n",
    "    wordlen.append(len(k))\n",
    "    index[k] = i\n",
    "    for w in v:\n",
    "        unique.add(w) \n",
    "    unique.add(k)\n",
    "print('unique', len(unique))"
   ]
  },
  {
   "cell_type": "code",
   "execution_count": 32,
   "metadata": {},
   "outputs": [
    {
     "data": {
      "text/plain": [
       "<matplotlib.collections.PathCollection at 0x230088eb128>"
      ]
     },
     "execution_count": 32,
     "metadata": {},
     "output_type": "execute_result"
    },
    {
     "data": {
      "image/png": "[encoded data removed]",
      "text/plain": [
       "<Figure size 432x288 with 1 Axes>"
      ]
     },
     "metadata": {
      "needs_background": "light"
     },
     "output_type": "display_data"
    }
   ],
   "source": [
    "plt.scatter(counts, wordlen)"
   ]
  },
  {
   "cell_type": "code",
   "execution_count": 33,
   "metadata": {},
   "outputs": [
    {
     "data": {
      "text/plain": [
       "(-0.26120168094153334, 5.1643614899467274e-20)"
      ]
     },
     "execution_count": 33,
     "metadata": {},
     "output_type": "execute_result"
    }
   ],
   "source": [
    "pearsonr(counts, wordlen)"
   ]
  },
  {
   "cell_type": "code",
   "execution_count": 34,
   "metadata": {},
   "outputs": [],
   "source": [
    "def index_node(n):\n",
    "    if n not in indexes:\n",
    "        indexes[n] = len(indexes)\n",
    "    return indexes[n]\n",
    "\n",
    "def write_graph(G)\n",
    "    with open('data/edges.csv', 'w+') as fp:\n",
    "        indexes = dict()\n",
    "        for k, edges in G.items():\n",
    "            ki = index_node(k)\n",
    "            for v in edges:\n",
    "                vi = index_node(v)\n",
    "                fp.write(f'{ki},{vi}\\n')\n",
    "    with open('data/nodes.csv', 'w+') as fp:\n",
    "        for k, v in indexes.items():\n",
    "            fp.write(f'{v},{k}\\n')\n",
    "    with open('data/labeled_edges.csv', 'w+') as fp:\n",
    "        fp.write('source,target\\n')\n",
    "        for k, edges in G.items():\n",
    "            for v in edges:\n",
    "                fp.write(f'{k},{v}\\n')"
   ]
  },
  {
   "cell_type": "code",
   "execution_count": 35,
   "metadata": {},
   "outputs": [],
   "source": [
    "with open('data/labeled_edges.csv', 'w+') as fp:\n",
    "    fp.write('source,target\\n')\n",
    "    for k, edges in G.items():\n",
    "        for v in edges:\n",
    "            fp.write(f'{k},{v}\\n')"
   ]
  },
  {
   "cell_type": "markdown",
   "metadata": {},
   "source": [
    "Jon M. Kleinberg, Authoritative Sources in a Hyperlinked Environment, in Journal of the ACM 46 (5): 604–632 (1999)"
   ]
  },
  {
   "cell_type": "markdown",
   "metadata": {},
   "source": [
    "## Measures of word similarity\n",
    "\n",
    "* word vector model\n",
    "* number of shared synonyms (needs dict but we should have that data)"
   ]
  },
  {
   "cell_type": "markdown",
   "metadata": {},
   "source": [
    "\n",
    "\n",
    "To contextualise, this is perhaps referential to Lacan's ideas that meaning is produced through metonymically linked chain of signifiers--the metonymic refering to things that are closely linked but no not exactly refer to the same thing. Additionally, we might also cite Derrida's notion of différance, to refer to this way how meaning can be indefinitely refered.\n",
    "\n",
    "Here insted of instead of using metonymically realated words, we will use the ns"
   ]
  },
  {
   "cell_type": "code",
   "execution_count": 36,
   "metadata": {},
   "outputs": [],
   "source": [
    "def dfs(start, successors):\n",
    "    frontier = [[start]]\n",
    "    explored = set()\n",
    "    longest = []\n",
    "    while frontier:\n",
    "        path = frontier.pop(0)\n",
    "        longest = max([longest, path], key=len)\n",
    "        for n in successors(path[-1]):\n",
    "            if n in explored:\n",
    "                continue\n",
    "            explored.add(n)\n",
    "            path2 = path + [n]\n",
    "            frontier.append(path2)\n",
    "    return longest\n",
    "    \n",
    "def successors(n): return G.get(n, [])"
   ]
  },
  {
   "cell_type": "code",
   "execution_count": 39,
   "metadata": {},
   "outputs": [
    {
     "name": "stdout",
     "output_type": "stream",
     "text": [
      "12 ['sister', 'partner', 'wife', 'woman', 'girl', 'miss', 'skirt', 'line', 'back', 'old', 'once', 'ever', 'incessantly']\n"
     ]
    }
   ],
   "source": [
    "longest = []\n",
    "paths = []\n",
    "for k in G:\n",
    "    path = dfs(k, successors)\n",
    "    paths.append(path)\n",
    "    longest = max([path, longest], key=len)\n",
    "print(len(longest) - 1, longest)"
   ]
  },
  {
   "cell_type": "code",
   "execution_count": 41,
   "metadata": {},
   "outputs": [],
   "source": []
  },
  {
   "cell_type": "code",
   "execution_count": null,
   "metadata": {},
   "outputs": [],
   "source": []
  }
 ],
 "metadata": {
  "kernelspec": {
   "display_name": "Python 3",
   "language": "python",
   "name": "python3"
  },
  "language_info": {
   "codemirror_mode": {
    "name": "ipython",
    "version": 3
   },
   "file_extension": ".py",
   "mimetype": "text/x-python",
   "name": "python",
   "nbconvert_exporter": "python",
   "pygments_lexer": "ipython3",
   "version": "3.7.1"
  }
 },
 "nbformat": 4,
 "nbformat_minor": 2
}
